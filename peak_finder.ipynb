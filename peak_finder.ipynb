{
 "cells": [
  {
   "cell_type": "markdown",
   "id": "dee02615-afc5-4b88-b112-834e09d96eb4",
   "metadata": {},
   "source": [
    "# Automatic Peak Finder"
   ]
  },
  {
   "cell_type": "markdown",
   "id": "be8ea9a8-e2ee-4aca-a519-b1b1dbf26246",
   "metadata": {
    "tags": []
   },
   "source": [
    "## Lightnovo ApS"
   ]
  },
  {
   "cell_type": "markdown",
   "id": "fede9497-11c3-4d2e-96a5-2c6a4ff47e10",
   "metadata": {
    "tags": []
   },
   "source": [
    "### info@lightnovo.com"
   ]
  },
  {
   "cell_type": "markdown",
   "id": "0a57c928-ca3c-4491-bcc6-b14daec07d12",
   "metadata": {},
   "source": [
    "Copyright 2024 Lightnovo ApS"
   ]
  },
  {
   "cell_type": "markdown",
   "id": "9b903992-9ffc-466b-bb2d-6933078933cc",
   "metadata": {
    "tags": []
   },
   "source": [
    "Licensing: MIT license"
   ]
  },
  {
   "cell_type": "code",
   "execution_count": null,
   "id": "9eba7b03-c37d-417e-84a2-4efa8c1b5083",
   "metadata": {
    "tags": []
   },
   "outputs": [],
   "source": [
    "import numpy as np\n",
    "import pandas as pd\n",
    "import matplotlib.pyplot as plt\n",
    "import seaborn as sns\n",
    "import scipy as sp\n",
    "import os\n",
    "\n",
    "import pybaselines\n",
    "from scipy.signal import find_peaks\n",
    "\n",
    "import datetime"
   ]
  },
  {
   "cell_type": "code",
   "execution_count": null,
   "id": "7c4be250-2f0c-44a6-8d03-8bae6e3bed71",
   "metadata": {
    "tags": []
   },
   "outputs": [],
   "source": [
    "sns.set(font_scale=1.5)\n",
    "sns.set_style('whitegrid')"
   ]
  },
  {
   "cell_type": "code",
   "execution_count": null,
   "id": "ca83cc8b-59de-4d39-9eb9-57f5ba844661",
   "metadata": {
    "tags": []
   },
   "outputs": [],
   "source": [
    "plt.rcParams.update({'figure.max_open_warning': 0})"
   ]
  },
  {
   "cell_type": "code",
   "execution_count": null,
   "id": "3d10ce15-fe6e-46da-a6e8-dbd000560689",
   "metadata": {
    "tags": []
   },
   "outputs": [],
   "source": [
    "#Raman spectrum class\n",
    "class raman_spectrum:\n",
    "    def __init__(self,fname):\n",
    "        self.fname = fname\n",
    "        self.fname0 = self.fname.split('/')[-1]\n",
    "        self.df = pd.read_csv(fname + '.tsv', sep='\\t', header =7)\n",
    "        self.df.rename(columns={'Tags':'Raman Shift, cm-1', self.df.columns[1]:'Intensity, %'}, inplace = True)\n",
    "        self.df.replace([np.inf, -np.inf], np.nan, inplace=True)\n",
    "        self.df.dropna(inplace = True)\n",
    "        self.baseline()\n",
    "        self.normalize()\n",
    "   \n",
    "  \n",
    "    def baseline(self):\n",
    "        pass\n",
    "        self.df[\"Baseline, %\"] = pybaselines.whittaker.arpls(self.df[\"Intensity, %\"])[0]\n",
    "        self.df[\"Baseline Corrected, %\"] = self.df[\"Intensity, %\"] - self.df[\"Baseline, %\"] \n",
    "        \n",
    "    def normalize(self):\n",
    "        self.df[\"Normalized Intensity\"] = (self.df[\"Intensity, %\"] - ( min0:=self.df[\"Intensity, %\"].min()) )/(self.df[\"Intensity, %\"].max() - min0) \n",
    "        self.df[\"Normalized Baseline Corrected\"] = (self.df[\"Baseline Corrected, %\"] - ( min0:=self.df[\"Baseline Corrected, %\"].min()) )/(self.df[\"Baseline Corrected, %\"].max() - min0) \n",
    "    \n",
    "    def plot(self, color, label):\n",
    "        sns.lineplot(self.df, x = \"Raman Shift, cm-1\", y = \"Intensity, %\", color = color, label = label)\n",
    "        plt.xlabel(r'Raman Shift, $cm^{-1}$') \n",
    "    \n",
    "    def plot(self, color, label):\n",
    "        sns.lineplot(self.df, x = \"Raman Shift, cm-1\", y = \"Intensity, %\", color = color, label = label)\n",
    "        plt.xlabel(r'Raman Shift, $cm^{-1}$') \n",
    "  \n",
    "    def plot_baseline(self, color, label):\n",
    "        sns.lineplot(self.df, x = \"Raman Shift, cm-1\", y = \"Baseline, %\", color = color, label = label)\n",
    "        plt.xlabel(r'Raman Shift, $cm^{-1}$') \n",
    "        \n",
    "    def plot_baseline_corrected(self, color, label):\n",
    "        sns.lineplot(self.df, x = \"Raman Shift, cm-1\", y = \"Baseline Corrected, %\", color = color, label = label)\n",
    "        plt.xlabel(r'Raman Shift, $cm^{-1}$') \n",
    "        \n",
    "    def plot_baseline_corrected_n(self, color, label):\n",
    "        sns.lineplot(self.df, x = \"Raman Shift, cm-1\", y = \"Normalized Baseline Corrected\", color = color, label = label)\n",
    "        plt.xlabel(r'Raman Shift, $cm^{-1}$') \n",
    "        \n",
    "    def plot_n(self, color, label, marker = None):\n",
    "        sns.lineplot(self.df, x = \"Raman Shift, cm-1\", y = \"Normalized Intensity\", marker = marker, color = color, label = label)\n",
    "        plt.xlabel(r'Raman Shift, $cm^{-1}$') "
   ]
  },
  {
   "cell_type": "code",
   "execution_count": null,
   "id": "27b8e750-cdbe-44ee-a536-f87de92ea458",
   "metadata": {
    "tags": []
   },
   "outputs": [],
   "source": [
    "tic = datetime.datetime.now()"
   ]
  },
  {
   "cell_type": "code",
   "execution_count": null,
   "id": "1104e3d7-a4d8-46ec-9e31-d0cc91260673",
   "metadata": {
    "tags": []
   },
   "outputs": [],
   "source": [
    "dir_path = \"Data\""
   ]
  },
  {
   "cell_type": "code",
   "execution_count": null,
   "id": "90fcbf6f-253f-4513-947c-8bda502510ca",
   "metadata": {
    "tags": []
   },
   "outputs": [],
   "source": [
    "notebook_dir = os.getcwd()\n",
    "os.chdir(dir_path)\n",
    "files = os.listdir()\n",
    "files.sort(key=lambda x: os.path.getmtime(x))"
   ]
  },
  {
   "cell_type": "code",
   "execution_count": null,
   "id": "5832a57c-ee73-45b5-92f6-e2d0e6187944",
   "metadata": {
    "tags": []
   },
   "outputs": [],
   "source": [
    "print(files)"
   ]
  },
  {
   "cell_type": "code",
   "execution_count": null,
   "id": "78a53a42-de22-4f4b-bbbf-5f253eebeca2",
   "metadata": {
    "tags": []
   },
   "outputs": [],
   "source": [
    "files = [f.split('.')[0] for f in files]"
   ]
  },
  {
   "cell_type": "code",
   "execution_count": null,
   "id": "0f7b28f6-c3b1-432b-af10-1979fce23000",
   "metadata": {
    "tags": []
   },
   "outputs": [],
   "source": [
    "print(files)"
   ]
  },
  {
   "cell_type": "code",
   "execution_count": null,
   "id": "18047855-1e6a-48fd-93c0-d9e04e10fab5",
   "metadata": {
    "tags": []
   },
   "outputs": [],
   "source": [
    "spectra = []\n",
    "\n",
    "for f in files:\n",
    "    spectra.append(raman_spectrum(f))"
   ]
  },
  {
   "cell_type": "code",
   "execution_count": null,
   "id": "ac755644-e0ad-47dd-b379-6b9adc951232",
   "metadata": {
    "tags": []
   },
   "outputs": [],
   "source": [
    "os.chdir(notebook_dir)"
   ]
  },
  {
   "cell_type": "code",
   "execution_count": null,
   "id": "b0c0e390-c06c-4788-a089-f4ae5763a592",
   "metadata": {
    "tags": []
   },
   "outputs": [],
   "source": [
    "for s in spectra:\n",
    "    \n",
    "    \n",
    "    df = s.df[s.df[\"Raman Shift, cm-1\"].between(500,2000)] # specify range\n",
    "    \n",
    "    peaks, _ = find_peaks(df[\"Normalized Baseline Corrected\"], height = 0.05, distance = 10) # specify min height and distance between peaks\n",
    "    \n",
    "    plt.figure(figsize = (10,5))\n",
    "    s.plot_baseline_corrected_n(color = 'red',label = s.fname0)\n",
    "    sns.scatterplot( df.iloc[peaks], x = \"Raman Shift, cm-1\", y = \"Normalized Baseline Corrected\", marker = 'x', color = 'black', s = 100);\n",
    "    plt.savefig(s.fname0 + '.png', dpi = 300, bbox_inches='tight')\n",
    "\n",
    "    print(s.fname0 + \" peaks (cm-1):\")\n",
    "    \n",
    "    for p in peaks:\n",
    "        print(df.iloc[p][\"Raman Shift, cm-1\"])"
   ]
  },
  {
   "cell_type": "code",
   "execution_count": null,
   "id": "3385fc62-e0dc-4a8a-881e-da4f772055ec",
   "metadata": {
    "tags": []
   },
   "outputs": [],
   "source": [
    "toc = datetime.datetime.now()\n",
    "print(toc-tic)"
   ]
  }
 ],
 "metadata": {
  "kernelspec": {
   "display_name": "Python 3 (ipykernel)",
   "language": "python",
   "name": "python3"
  },
  "language_info": {
   "codemirror_mode": {
    "name": "ipython",
    "version": 3
   },
   "file_extension": ".py",
   "mimetype": "text/x-python",
   "name": "python",
   "nbconvert_exporter": "python",
   "pygments_lexer": "ipython3",
   "version": "3.11.5"
  }
 },
 "nbformat": 4,
 "nbformat_minor": 5
}
